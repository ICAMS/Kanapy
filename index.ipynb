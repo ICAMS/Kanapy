{
 "cells": [
  {
   "cell_type": "markdown",
   "id": "4efa3067-8eee-441a-b9b8-2760786b26df",
   "metadata": {},
   "source": [
    "# Index of Kanapy notebooks\n",
    "\n",
    "Kanapy is a python package developed at ICAMS and Ruhr University Bochum, Germany, for generating complex three-dimensional (3D) synthetic\n",
    "polycrystalline microstructures. The microstructures are built based on statistical information about grain geometry, given as grain size distribution and aspect ratio of grains, and crystallographic texture, in form of orientation distribution functions (ODF) and misorientation distribution functions (MDF). Kanapy offers tools to analyze EBSD maps with respect to the geometry and texture of microstructures. Based on this experimental data, it generates 3D synthetic microstructures mimicking real ones in a statistical sense. The [online documentation](https://icams.github.io/Kanapy/) of Kanapy for more information. \n",
    "\n",
    "The following tutorials and research applications refer to Jupyter notebooks provided in the [GitHub repository](https://github.com/ICAMS/Kanapy.git) of Kanapy.\n",
    "\n",
    "  - Author: Alexander Hartmaier\n",
    "  - Organization: ICAMS, Ruhr University Bochum, Germany\n",
    "  - Contact: <alexander.hartmaier@rub.de>\n",
    "\n",
    "This work is licensed under a Creative Commons Attribution-NonCommercial-ShareAlike 4.0 International License [(CC-BY-NC-SA)](http://creativecommons.org/licenses/by-nc-sa/4.0/)\n",
    "<a rel=\"license\" href=\"http://creativecommons.org/licenses/by-nc-sa/4.0/\">\n",
    "   <img alt=\"Creative Commons License\" style=\"border-width:0;max-heigt:9px;height:100%;\" src=\"https://i.creativecommons.org/l/by-nc-sa/4.0/88x31.png\" /></a>  \n",
    "Copyright &copy; by the author, 2025\n",
    "\n",
    "The Kanapy package comes with ABSOLUTELY NO WARRANTY. This is free software, and you are welcome to redistribute it under the conditions of the GNU General Public License [(GPLv3)](http://www.fsf.org/licensing/licenses/gpl.html)\n",
    "\n",
    "## Notebooks\n",
    "\n",
    "  - [generate_rve.ipynb](examples/notebooks/generate_rve.ipynb)  \n",
    "    The basic steps of using Kanapy to generate synthetic representative volume elements (RVE) are demonstrated. The RVE can be exported in standard FEA formats.\n",
    "\n",
    "  - [ebsd2rve.ipynb](examples/notebooks/ebsd2rve.ipynb)  \n",
    "    An EBSD map aof a austenitic steel produced by additive manufacturing is analyzed with respect to statistical microstructure descriptors. The descriptors are the basis to build an RVE.\n",
    "\n",
    " - [dispersed_phase.ipynb](examples/notebooks/dispersed_phase.ipynb)  \n",
    "    A polycrystal with a second phase dispersed along the grain boundaries is generated.\n"
   ]
  },
  {
   "cell_type": "code",
   "execution_count": null,
   "id": "da457794-08c4-4aa2-8394-2bbeac634751",
   "metadata": {},
   "outputs": [],
   "source": []
  }
 ],
 "metadata": {
  "kernelspec": {
   "display_name": "Python [conda env:knpy] *",
   "language": "python",
   "name": "conda-env-knpy-py"
  },
  "language_info": {
   "codemirror_mode": {
    "name": "ipython",
    "version": 3
   },
   "file_extension": ".py",
   "mimetype": "text/x-python",
   "name": "python",
   "nbconvert_exporter": "python",
   "pygments_lexer": "ipython3",
   "version": "3.10.18"
  }
 },
 "nbformat": 4,
 "nbformat_minor": 5
}
